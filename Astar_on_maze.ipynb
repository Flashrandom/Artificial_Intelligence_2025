{
 "cells": [
  {
   "cell_type": "markdown",
   "id": "0452b825",
   "metadata": {},
   "source": [
    "## A* Implementation  on a maze"
   ]
  },
  {
   "cell_type": "code",
   "execution_count": 8,
   "id": "e9b25eaf",
   "metadata": {},
   "outputs": [
    {
     "name": "stdout",
     "output_type": "stream",
     "text": [
      "Path: [(4, 0), (3, 0), (2, 0), (2, 1), (2, 2), (2, 3), (1, 3), (0, 3), (0, 4)]\n",
      "Cost: 8\n",
      "Optimal = True\n"
     ]
    },
    {
     "data": {
      "image/png": "[encoded data removed]",
      "text/plain": [
       "<Figure size 640x480 with 1 Axes>"
      ]
     },
     "metadata": {},
     "output_type": "display_data"
    },
    {
     "name": "stdout",
     "output_type": "stream",
     "text": [
      "\n",
      "Case 1: h = 1.5 * Manhattan\n",
      "Path: [(4, 0), (3, 0), (2, 0), (2, 1), (2, 2), (2, 3), (1, 3), (0, 3), (0, 4)]\n",
      "Cost: 8\n",
      "Optimal =  True\n",
      "\n",
      "Case 2: Inconsistent Heuristic\n",
      "Path: [(4, 0), (4, 1), (4, 2), (4, 3), (4, 4), (3, 4), (2, 4), (2, 3), (1, 3), (0, 3), (0, 4)]\n",
      "Cost: 10\n",
      "Optimal =  False\n"
     ]
    }
   ],
   "source": [
    "import heapq\n",
    "import matplotlib.pyplot as plt\n",
    "import numpy as np\n",
    "\n",
    "# maze grid setup\n",
    "maze = [\n",
    "    [0, 0, 1, 0, \"B\"],\n",
    "    [1, 0, 1, 0, 1],\n",
    "    [0, 0, 0, 0, 0],\n",
    "    [0, 1, 1, 1, 0],\n",
    "    [\"A\", 0, 0, 0, 0]\n",
    "]\n",
    "\n",
    "rows, cols = len(maze), len(maze[0])\n",
    "\n",
    "# detect source and destination\n",
    "for i in range(rows):\n",
    "    for j in range(cols):\n",
    "        if maze[i][j] == \"A\":\n",
    "            start = (i, j)\n",
    "            maze[i][j] = 0\n",
    "        if maze[i][j] == \"B\":\n",
    "            goal = (i, j)\n",
    "            maze[i][j] = 0\n",
    "\n",
    "def manhattan(a, b):\n",
    "    return abs(a[0]-b[0]) + abs(a[1]-b[1])\n",
    "\n",
    "def astar(grid, source, target, h_func):\n",
    "    r, c = len(grid), len(grid[0])\n",
    "    pq = []\n",
    "    heapq.heappush(pq, (0, source))\n",
    "    \n",
    "    parent = {}\n",
    "    g_val = {source: 0}\n",
    "    f_val = {source: h_func(source, target)}\n",
    "    \n",
    "    while pq:\n",
    "        _, curr = heapq.heappop(pq)\n",
    "        \n",
    "        if curr == target:\n",
    "            route = []\n",
    "            while curr in parent:\n",
    "                route.append(curr)\n",
    "                curr = parent[curr]\n",
    "            route.append(source)\n",
    "            route.reverse()\n",
    "            return route, g_val[target]\n",
    "        \n",
    "        for dx, dy in [(1,0),(-1,0),(0,1),(0,-1)]:\n",
    "            nb = (curr[0]+dx, curr[1]+dy)\n",
    "            if 0 <= nb[0] < r and 0 <= nb[1] < c and grid[nb[0]][nb[1]] == 0:\n",
    "                new_g = g_val[curr] + 1\n",
    "                if new_g < g_val.get(nb, float('inf')):\n",
    "                    parent[nb] = curr\n",
    "                    g_val[nb] = new_g\n",
    "                    f_val[nb] = new_g + h_func(nb, target)\n",
    "                    heapq.heappush(pq, (f_val[nb], nb))\n",
    "    \n",
    "    return None, float('inf')\n",
    "\n",
    "# Run the code Original vala \n",
    "path, cost = astar(maze, start, goal, manhattan)\n",
    "print(\"Path:\", path)\n",
    "print(\"Cost:\", cost)\n",
    "print(\"Optimal =\", cost == len(path)-1)\n",
    "\n",
    "maze_vis = np.array(maze)\n",
    "for (i,j) in path:\n",
    "    maze_vis[i][j] = 2\n",
    "plt.imshow(maze_vis, cmap=\"coolwarm\")\n",
    "plt.title(\"Route traced with Manhattan\")\n",
    "plt.show()\n",
    "\n",
    "# case 1: heuristic Multiled \n",
    "def heuristic_case1(a, b):\n",
    "    return 1.5 * manhattan(a, b)\n",
    "\n",
    "path1, cost1 = astar(maze, start, goal, heuristic_case1)\n",
    "print(\"\\nCase 1: h = 1.5 * Manhattan\")\n",
    "print(\"Path:\", path1)\n",
    "print(\"Cost:\", cost1)\n",
    "print(\"Optimal = \", cost1 == len(path)-1)\n",
    "\n",
    "# case 2: MAke inconsistent\n",
    "def heuristic_case2(a, b):\n",
    "    if a == (2,2):\n",
    "        return manhattan(a, b) + 3\n",
    "    return manhattan(a, b)\n",
    "\n",
    "path2, cost2 = astar(maze, start, goal, heuristic_case2)\n",
    "print(\"\\nCase 2: Inconsistent Heuristic\")\n",
    "print(\"Path:\", path2)\n",
    "print(\"Cost:\", cost2)\n",
    "print(\"Optimal = \", cost2 == len(path)-1)\n"
   ]
  }
 ],
 "metadata": {
  "kernelspec": {
   "display_name": "Python 3",
   "language": "python",
   "name": "python3"
  },
  "language_info": {
   "codemirror_mode": {
    "name": "ipython",
    "version": 3
   },
   "file_extension": ".py",
   "mimetype": "text/x-python",
   "name": "python",
   "nbconvert_exporter": "python",
   "pygments_lexer": "ipython3",
   "version": "3.11.9"
  }
 },
 "nbformat": 4,
 "nbformat_minor": 5
}
